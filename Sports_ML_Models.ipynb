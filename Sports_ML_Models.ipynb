{
 "cells": [
  {
   "cell_type": "markdown",
   "metadata": {},
   "source": [
    "# Importing dataset "
   ]
  },
  {
   "cell_type": "code",
   "execution_count": 2,
   "metadata": {},
   "outputs": [
    {
     "data": {
      "text/plain": [
       "Index(['Unnamed: 0', 'ID', 'Name', 'Age', 'Photo', 'Nationality', 'Flag',\n",
       "       'Overall', 'Potential', 'Club', 'Club Logo', 'Value', 'Wage', 'Special',\n",
       "       'Preferred Foot', 'International Reputation', 'Weak Foot',\n",
       "       'Skill Moves', 'Work Rate', 'Body Type', 'Real Face', 'Position',\n",
       "       'Jersey Number', 'Joined', 'Loaned From', 'Contract Valid Until',\n",
       "       'Height', 'Weight', 'LS', 'ST', 'RS', 'LW', 'LF', 'CF', 'RF', 'RW',\n",
       "       'LAM', 'CAM', 'RAM', 'LM', 'LCM', 'CM', 'RCM', 'RM', 'LWB', 'LDM',\n",
       "       'CDM', 'RDM', 'RWB', 'LB', 'LCB', 'CB', 'RCB', 'RB', 'Crossing',\n",
       "       'Finishing', 'HeadingAccuracy', 'ShortPassing', 'Volleys', 'Dribbling',\n",
       "       'Curve', 'FKAccuracy', 'LongPassing', 'BallControl', 'Acceleration',\n",
       "       'SprintSpeed', 'Agility', 'Reactions', 'Balance', 'ShotPower',\n",
       "       'Jumping', 'Stamina', 'Strength', 'LongShots', 'Aggression',\n",
       "       'Interceptions', 'Positioning', 'Vision', 'Penalties', 'Composure',\n",
       "       'Marking', 'StandingTackle', 'SlidingTackle', 'GKDiving', 'GKHandling',\n",
       "       'GKKicking', 'GKPositioning', 'GKReflexes', 'Release Clause'],\n",
       "      dtype='object')"
      ]
     },
     "execution_count": 2,
     "metadata": {},
     "output_type": "execute_result"
    }
   ],
   "source": [
    "import pandas as pd\n",
    "import numpy as np\n",
    "import warnings\n",
    "warnings.filterwarnings('ignore')\n",
    "from sklearn.model_selection import train_test_split \n",
    "from sklearn.preprocessing import MinMaxScaler\n",
    "min_max=MinMaxScaler()\n",
    "from sklearn import linear_model\n",
    "import matplotlib.pyplot as plt\n",
    "dpath = r'C:\\Users\\MUJ\\Desktop\\MINOR PROJECT\\fifa.csv'\n",
    "dataset = pd.read_csv(dpath)\n",
    "dataset.columns"
   ]
  },
  {
   "cell_type": "markdown",
   "metadata": {},
   "source": [
    "#    Data Processing"
   ]
  },
  {
   "cell_type": "code",
   "execution_count": 3,
   "metadata": {},
   "outputs": [
    {
     "data": {
      "text/plain": [
       "<bound method DataFrame.fillna of        Unnamed: 0      ID                  Name  Age  \\\n",
       "0               0  158023              L. Messi   31   \n",
       "1               1   20801     Cristiano Ronaldo   33   \n",
       "2               2  190871             Neymar Jr   26   \n",
       "3               3  193080                De Gea   27   \n",
       "4               4  192985          K. De Bruyne   27   \n",
       "5               5  183277             E. Hazard   27   \n",
       "6               6  177003             L. Modrić   32   \n",
       "7               7  176580             L. Suárez   31   \n",
       "8               8  155862          Sergio Ramos   32   \n",
       "9               9  200389              J. Oblak   25   \n",
       "10             10  188545        R. Lewandowski   29   \n",
       "11             11  182521              T. Kroos   28   \n",
       "12             12  182493              D. Godín   32   \n",
       "13             13  168542           David Silva   32   \n",
       "14             14  215914              N. Kanté   27   \n",
       "15             15  211110             P. Dybala   24   \n",
       "16             16  202126               H. Kane   24   \n",
       "17             17  194765          A. Griezmann   27   \n",
       "18             18  192448         M. ter Stegen   26   \n",
       "19             19  192119           T. Courtois   26   \n",
       "20             20  189511       Sergio Busquets   29   \n",
       "21             21  179813             E. Cavani   31   \n",
       "22             22  167495              M. Neuer   32   \n",
       "23             23  153079             S. Agüero   30   \n",
       "24             24  138956          G. Chiellini   33   \n",
       "25             25  231747             K. Mbappé   19   \n",
       "26             26  209331              M. Salah   26   \n",
       "27             27  200145              Casemiro   26   \n",
       "28             28  198710          J. Rodríguez   26   \n",
       "29             29  198219            L. Insigne   27   \n",
       "...           ...     ...                   ...  ...   \n",
       "18177       18177  238550             R. Roache   18   \n",
       "18178       18178  243158          L. Wahlstedt   18   \n",
       "18179       18179  246243           J. Williams   17   \n",
       "18180       18180  221669              M. Hurst   22   \n",
       "18181       18181  245734              C. Maher   17   \n",
       "18182       18182  246001               Y. Góez   18   \n",
       "18183       18183   53748         K. Pilkington   44   \n",
       "18184       18184  241657             D. Horton   18   \n",
       "18185       18185  243961              E. Tweed   19   \n",
       "18186       18186  240917          Zhang Yufeng   20   \n",
       "18187       18187  240158             C. Ehlich   19   \n",
       "18188       18188  240927            L. Collins   17   \n",
       "18189       18189  240160            A. Kaltner   18   \n",
       "18190       18190  245569            L. Watkins   18   \n",
       "18191       18191  245570  J. Norville-Williams   18   \n",
       "18192       18192  245571             S. Squire   18   \n",
       "18193       18193  244823            N. Fuentes   18   \n",
       "18194       18194  245862              J. Milli   18   \n",
       "18195       18195  243582            S. Griffin   18   \n",
       "18196       18196  238477           K. Fujikawa   19   \n",
       "18197       18197  246167            D. Holland   18   \n",
       "18198       18198  242844            J. Livesey   18   \n",
       "18199       18199  244677          M. Baldisimo   18   \n",
       "18200       18200  231381              J. Young   18   \n",
       "18201       18201  243413              D. Walsh   18   \n",
       "18202       18202  238813          J. Lundstram   19   \n",
       "18203       18203  243165    N. Christoffersson   19   \n",
       "18204       18204  241638             B. Worman   16   \n",
       "18205       18205  246268        D. Walker-Rice   17   \n",
       "18206       18206  246269             G. Nugent   16   \n",
       "\n",
       "                                                Photo          Nationality  \\\n",
       "0      https://cdn.sofifa.org/players/4/19/158023.png            Argentina   \n",
       "1       https://cdn.sofifa.org/players/4/19/20801.png             Portugal   \n",
       "2      https://cdn.sofifa.org/players/4/19/190871.png               Brazil   \n",
       "3      https://cdn.sofifa.org/players/4/19/193080.png                Spain   \n",
       "4      https://cdn.sofifa.org/players/4/19/192985.png              Belgium   \n",
       "5      https://cdn.sofifa.org/players/4/19/183277.png              Belgium   \n",
       "6      https://cdn.sofifa.org/players/4/19/177003.png              Croatia   \n",
       "7      https://cdn.sofifa.org/players/4/19/176580.png              Uruguay   \n",
       "8      https://cdn.sofifa.org/players/4/19/155862.png                Spain   \n",
       "9      https://cdn.sofifa.org/players/4/19/200389.png             Slovenia   \n",
       "10     https://cdn.sofifa.org/players/4/19/188545.png               Poland   \n",
       "11     https://cdn.sofifa.org/players/4/19/182521.png              Germany   \n",
       "12     https://cdn.sofifa.org/players/4/19/182493.png              Uruguay   \n",
       "13     https://cdn.sofifa.org/players/4/19/168542.png                Spain   \n",
       "14     https://cdn.sofifa.org/players/4/19/215914.png               France   \n",
       "15     https://cdn.sofifa.org/players/4/19/211110.png            Argentina   \n",
       "16     https://cdn.sofifa.org/players/4/19/202126.png              England   \n",
       "17     https://cdn.sofifa.org/players/4/19/194765.png               France   \n",
       "18     https://cdn.sofifa.org/players/4/19/192448.png              Germany   \n",
       "19     https://cdn.sofifa.org/players/4/19/192119.png              Belgium   \n",
       "20     https://cdn.sofifa.org/players/4/19/189511.png                Spain   \n",
       "21     https://cdn.sofifa.org/players/4/19/179813.png              Uruguay   \n",
       "22     https://cdn.sofifa.org/players/4/19/167495.png              Germany   \n",
       "23     https://cdn.sofifa.org/players/4/19/153079.png            Argentina   \n",
       "24     https://cdn.sofifa.org/players/4/19/138956.png                Italy   \n",
       "25     https://cdn.sofifa.org/players/4/19/231747.png               France   \n",
       "26     https://cdn.sofifa.org/players/4/19/209331.png                Egypt   \n",
       "27     https://cdn.sofifa.org/players/4/19/200145.png               Brazil   \n",
       "28     https://cdn.sofifa.org/players/4/19/198710.png             Colombia   \n",
       "29     https://cdn.sofifa.org/players/4/19/198219.png                Italy   \n",
       "...                                               ...                  ...   \n",
       "18177  https://cdn.sofifa.org/players/4/19/238550.png  Republic of Ireland   \n",
       "18178  https://cdn.sofifa.org/players/4/19/243158.png               Sweden   \n",
       "18179  https://cdn.sofifa.org/players/4/19/246243.png              England   \n",
       "18180  https://cdn.sofifa.org/players/4/19/221669.png             Scotland   \n",
       "18181  https://cdn.sofifa.org/players/4/19/245734.png  Republic of Ireland   \n",
       "18182  https://cdn.sofifa.org/players/4/19/246001.png             Colombia   \n",
       "18183   https://cdn.sofifa.org/players/4/19/53748.png              England   \n",
       "18184  https://cdn.sofifa.org/players/4/19/241657.png              England   \n",
       "18185  https://cdn.sofifa.org/players/4/19/243961.png  Republic of Ireland   \n",
       "18186  https://cdn.sofifa.org/players/4/19/240917.png             China PR   \n",
       "18187  https://cdn.sofifa.org/players/4/19/240158.png              Germany   \n",
       "18188  https://cdn.sofifa.org/players/4/19/240927.png                Wales   \n",
       "18189  https://cdn.sofifa.org/players/4/19/240160.png              Germany   \n",
       "18190  https://cdn.sofifa.org/players/4/19/245569.png              England   \n",
       "18191  https://cdn.sofifa.org/players/4/19/245570.png              England   \n",
       "18192  https://cdn.sofifa.org/players/4/19/245571.png              England   \n",
       "18193  https://cdn.sofifa.org/players/4/19/244823.png                Chile   \n",
       "18194  https://cdn.sofifa.org/players/4/19/245862.png                Italy   \n",
       "18195  https://cdn.sofifa.org/players/4/19/243582.png  Republic of Ireland   \n",
       "18196  https://cdn.sofifa.org/players/4/19/238477.png                Japan   \n",
       "18197  https://cdn.sofifa.org/players/4/19/246167.png  Republic of Ireland   \n",
       "18198  https://cdn.sofifa.org/players/4/19/242844.png              England   \n",
       "18199  https://cdn.sofifa.org/players/4/19/244677.png               Canada   \n",
       "18200  https://cdn.sofifa.org/players/4/19/231381.png             Scotland   \n",
       "18201  https://cdn.sofifa.org/players/4/19/243413.png  Republic of Ireland   \n",
       "18202  https://cdn.sofifa.org/players/4/19/238813.png              England   \n",
       "18203  https://cdn.sofifa.org/players/4/19/243165.png               Sweden   \n",
       "18204  https://cdn.sofifa.org/players/4/19/241638.png              England   \n",
       "18205  https://cdn.sofifa.org/players/4/19/246268.png              England   \n",
       "18206  https://cdn.sofifa.org/players/4/19/246269.png              England   \n",
       "\n",
       "                                       Flag  Overall  Potential  \\\n",
       "0       https://cdn.sofifa.org/flags/52.png       94         94   \n",
       "1       https://cdn.sofifa.org/flags/38.png       94         94   \n",
       "2       https://cdn.sofifa.org/flags/54.png       92         93   \n",
       "3       https://cdn.sofifa.org/flags/45.png       91         93   \n",
       "4        https://cdn.sofifa.org/flags/7.png       91         92   \n",
       "5        https://cdn.sofifa.org/flags/7.png       91         91   \n",
       "6       https://cdn.sofifa.org/flags/10.png       91         91   \n",
       "7       https://cdn.sofifa.org/flags/60.png       91         91   \n",
       "8       https://cdn.sofifa.org/flags/45.png       91         91   \n",
       "9       https://cdn.sofifa.org/flags/44.png       90         93   \n",
       "10      https://cdn.sofifa.org/flags/37.png       90         90   \n",
       "11      https://cdn.sofifa.org/flags/21.png       90         90   \n",
       "12      https://cdn.sofifa.org/flags/60.png       90         90   \n",
       "13      https://cdn.sofifa.org/flags/45.png       90         90   \n",
       "14      https://cdn.sofifa.org/flags/18.png       89         90   \n",
       "15      https://cdn.sofifa.org/flags/52.png       89         94   \n",
       "16      https://cdn.sofifa.org/flags/14.png       89         91   \n",
       "17      https://cdn.sofifa.org/flags/18.png       89         90   \n",
       "18      https://cdn.sofifa.org/flags/21.png       89         92   \n",
       "19       https://cdn.sofifa.org/flags/7.png       89         90   \n",
       "20      https://cdn.sofifa.org/flags/45.png       89         89   \n",
       "21      https://cdn.sofifa.org/flags/60.png       89         89   \n",
       "22      https://cdn.sofifa.org/flags/21.png       89         89   \n",
       "23      https://cdn.sofifa.org/flags/52.png       89         89   \n",
       "24      https://cdn.sofifa.org/flags/27.png       89         89   \n",
       "25      https://cdn.sofifa.org/flags/18.png       88         95   \n",
       "26     https://cdn.sofifa.org/flags/111.png       88         89   \n",
       "27      https://cdn.sofifa.org/flags/54.png       88         90   \n",
       "28      https://cdn.sofifa.org/flags/56.png       88         89   \n",
       "29      https://cdn.sofifa.org/flags/27.png       88         88   \n",
       "...                                     ...      ...        ...   \n",
       "18177   https://cdn.sofifa.org/flags/25.png       48         69   \n",
       "18178   https://cdn.sofifa.org/flags/46.png       48         65   \n",
       "18179   https://cdn.sofifa.org/flags/14.png       48         64   \n",
       "18180   https://cdn.sofifa.org/flags/42.png       48         58   \n",
       "18181   https://cdn.sofifa.org/flags/25.png       48         66   \n",
       "18182   https://cdn.sofifa.org/flags/56.png       48         65   \n",
       "18183   https://cdn.sofifa.org/flags/14.png       48         48   \n",
       "18184   https://cdn.sofifa.org/flags/14.png       48         55   \n",
       "18185   https://cdn.sofifa.org/flags/25.png       48         59   \n",
       "18186  https://cdn.sofifa.org/flags/155.png       47         64   \n",
       "18187   https://cdn.sofifa.org/flags/21.png       47         59   \n",
       "18188   https://cdn.sofifa.org/flags/50.png       47         62   \n",
       "18189   https://cdn.sofifa.org/flags/21.png       47         61   \n",
       "18190   https://cdn.sofifa.org/flags/14.png       47         67   \n",
       "18191   https://cdn.sofifa.org/flags/14.png       47         65   \n",
       "18192   https://cdn.sofifa.org/flags/14.png       47         64   \n",
       "18193   https://cdn.sofifa.org/flags/55.png       47         64   \n",
       "18194   https://cdn.sofifa.org/flags/27.png       47         65   \n",
       "18195   https://cdn.sofifa.org/flags/25.png       47         67   \n",
       "18196  https://cdn.sofifa.org/flags/163.png       47         61   \n",
       "18197   https://cdn.sofifa.org/flags/25.png       47         61   \n",
       "18198   https://cdn.sofifa.org/flags/14.png       47         70   \n",
       "18199   https://cdn.sofifa.org/flags/70.png       47         69   \n",
       "18200   https://cdn.sofifa.org/flags/42.png       47         62   \n",
       "18201   https://cdn.sofifa.org/flags/25.png       47         68   \n",
       "18202   https://cdn.sofifa.org/flags/14.png       47         65   \n",
       "18203   https://cdn.sofifa.org/flags/46.png       47         63   \n",
       "18204   https://cdn.sofifa.org/flags/14.png       47         67   \n",
       "18205   https://cdn.sofifa.org/flags/14.png       47         66   \n",
       "18206   https://cdn.sofifa.org/flags/14.png       46         66   \n",
       "\n",
       "                         Club      ...       Composure Marking StandingTackle  \\\n",
       "0                FC Barcelona      ...            96.0    33.0           28.0   \n",
       "1                    Juventus      ...            95.0    28.0           31.0   \n",
       "2         Paris Saint-Germain      ...            94.0    27.0           24.0   \n",
       "3           Manchester United      ...            68.0    15.0           21.0   \n",
       "4             Manchester City      ...            88.0    68.0           58.0   \n",
       "5                     Chelsea      ...            91.0    34.0           27.0   \n",
       "6                 Real Madrid      ...            84.0    60.0           76.0   \n",
       "7                FC Barcelona      ...            85.0    62.0           45.0   \n",
       "8                 Real Madrid      ...            82.0    87.0           92.0   \n",
       "9             Atlético Madrid      ...            70.0    27.0           12.0   \n",
       "10          FC Bayern München      ...            86.0    34.0           42.0   \n",
       "11                Real Madrid      ...            85.0    72.0           79.0   \n",
       "12            Atlético Madrid      ...            82.0    90.0           89.0   \n",
       "13            Manchester City      ...            93.0    59.0           53.0   \n",
       "14                    Chelsea      ...            85.0    90.0           91.0   \n",
       "15                   Juventus      ...            84.0    23.0           20.0   \n",
       "16          Tottenham Hotspur      ...            89.0    56.0           36.0   \n",
       "17            Atlético Madrid      ...            87.0    59.0           47.0   \n",
       "18               FC Barcelona      ...            69.0    25.0           13.0   \n",
       "19                Real Madrid      ...            66.0    20.0           18.0   \n",
       "20               FC Barcelona      ...            90.0    90.0           86.0   \n",
       "21        Paris Saint-Germain      ...            82.0    52.0           45.0   \n",
       "22          FC Bayern München      ...            70.0    17.0           10.0   \n",
       "23            Manchester City      ...            90.0    30.0           20.0   \n",
       "24                   Juventus      ...            84.0    93.0           93.0   \n",
       "25        Paris Saint-Germain      ...            86.0    34.0           34.0   \n",
       "26                  Liverpool      ...            91.0    38.0           43.0   \n",
       "27                Real Madrid      ...            84.0    88.0           90.0   \n",
       "28          FC Bayern München      ...            87.0    52.0           41.0   \n",
       "29                     Napoli      ...            83.0    51.0           24.0   \n",
       "...                       ...      ...             ...     ...            ...   \n",
       "18177               Blackpool      ...            49.0    18.0           16.0   \n",
       "18178              Dalkurd FF      ...            28.0    16.0           11.0   \n",
       "18179        Northampton Town      ...            37.0    42.0           51.0   \n",
       "18180        St. Johnstone FC      ...            28.0    12.0           15.0   \n",
       "18181          Bray Wanderers      ...            38.0    43.0           49.0   \n",
       "18182       Atlético Nacional      ...            38.0    44.0           42.0   \n",
       "18183        Cambridge United      ...            56.0    15.0           15.0   \n",
       "18184            Lincoln City      ...            42.0    47.0           49.0   \n",
       "18185              Derry City      ...            43.0    39.0           39.0   \n",
       "18186        Beijing Renhe FC      ...            39.0    53.0           41.0   \n",
       "18187      SpVgg Unterhaching      ...            47.0    40.0           42.0   \n",
       "18188          Newport County      ...            46.0    33.0           38.0   \n",
       "18189      SpVgg Unterhaching      ...            37.0    28.0           15.0   \n",
       "18190        Cambridge United      ...            46.0    35.0           44.0   \n",
       "18191        Cambridge United      ...            36.0    45.0           42.0   \n",
       "18192        Cambridge United      ...            38.0    41.0           41.0   \n",
       "18193          Unión Española      ...            32.0    41.0           48.0   \n",
       "18194                   Lecce      ...            23.0     6.0           10.0   \n",
       "18195            Waterford FC      ...            41.0    44.0           37.0   \n",
       "18196            Júbilo Iwata      ...            35.0    41.0           44.0   \n",
       "18197               Cork City      ...            52.0    41.0           47.0   \n",
       "18198           Burton Albion      ...            34.0    15.0           11.0   \n",
       "18199  Vancouver Whitecaps FC      ...            40.0    48.0           49.0   \n",
       "18200            Swindon Town      ...            50.0    15.0           17.0   \n",
       "18201            Waterford FC      ...            43.0    44.0           47.0   \n",
       "18202         Crewe Alexandra      ...            45.0    40.0           48.0   \n",
       "18203          Trelleborgs FF      ...            42.0    22.0           15.0   \n",
       "18204        Cambridge United      ...            41.0    32.0           13.0   \n",
       "18205         Tranmere Rovers      ...            46.0    20.0           25.0   \n",
       "18206         Tranmere Rovers      ...            43.0    40.0           43.0   \n",
       "\n",
       "       SlidingTackle GKDiving  GKHandling  GKKicking  GKPositioning  \\\n",
       "0               26.0      6.0        11.0       15.0           14.0   \n",
       "1               23.0      7.0        11.0       15.0           14.0   \n",
       "2               33.0      9.0         9.0       15.0           15.0   \n",
       "3               13.0     90.0        85.0       87.0           88.0   \n",
       "4               51.0     15.0        13.0        5.0           10.0   \n",
       "5               22.0     11.0        12.0        6.0            8.0   \n",
       "6               73.0     13.0         9.0        7.0           14.0   \n",
       "7               38.0     27.0        25.0       31.0           33.0   \n",
       "8               91.0     11.0         8.0        9.0            7.0   \n",
       "9               18.0     86.0        92.0       78.0           88.0   \n",
       "10              19.0     15.0         6.0       12.0            8.0   \n",
       "11              69.0     10.0        11.0       13.0            7.0   \n",
       "12              89.0      6.0         8.0       15.0            5.0   \n",
       "13              29.0      6.0        15.0        7.0            6.0   \n",
       "14              85.0     15.0        12.0       10.0            7.0   \n",
       "15              20.0      5.0         4.0        4.0            5.0   \n",
       "16              38.0      8.0        10.0       11.0           14.0   \n",
       "17              48.0     14.0         8.0       14.0           13.0   \n",
       "18              10.0     87.0        85.0       88.0           85.0   \n",
       "19              16.0     85.0        91.0       72.0           86.0   \n",
       "20              80.0      5.0         8.0       13.0            9.0   \n",
       "21              39.0     12.0         5.0       13.0           13.0   \n",
       "22              11.0     90.0        86.0       91.0           87.0   \n",
       "23              12.0     13.0        15.0        6.0           11.0   \n",
       "24              90.0      3.0         3.0        2.0            4.0   \n",
       "25              32.0     13.0         5.0        7.0           11.0   \n",
       "26              41.0     14.0        14.0        9.0           11.0   \n",
       "27              87.0     13.0        14.0       16.0           12.0   \n",
       "28              44.0     15.0        15.0       15.0            5.0   \n",
       "29              22.0      8.0         4.0       14.0            9.0   \n",
       "...              ...      ...         ...        ...            ...   \n",
       "18177           11.0      6.0         9.0       11.0            7.0   \n",
       "18178           10.0     47.0        46.0       50.0           45.0   \n",
       "18179           49.0     14.0        11.0        7.0           11.0   \n",
       "18180           16.0     45.0        49.0       50.0           50.0   \n",
       "18181           45.0      8.0        10.0       12.0            9.0   \n",
       "18182           46.0      9.0        15.0       15.0            8.0   \n",
       "18183           13.0     45.0        48.0       44.0           49.0   \n",
       "18184           53.0     12.0         5.0       12.0           14.0   \n",
       "18185           48.0      6.0        11.0        9.0            5.0   \n",
       "18186           51.0     15.0         7.0       14.0            6.0   \n",
       "18187           42.0     13.0        12.0       11.0           15.0   \n",
       "18188           41.0      5.0        12.0        8.0           13.0   \n",
       "18189           22.0     15.0         5.0       14.0           12.0   \n",
       "18190           47.0     13.0         7.0       14.0           10.0   \n",
       "18191           46.0     15.0        13.0        6.0           14.0   \n",
       "18192           44.0     11.0        11.0        8.0           12.0   \n",
       "18193           48.0      6.0        10.0        6.0           12.0   \n",
       "18194           11.0     52.0        52.0       52.0           40.0   \n",
       "18195           48.0     13.0        14.0       12.0            7.0   \n",
       "18196           54.0     10.0        12.0        6.0           11.0   \n",
       "18197           38.0     13.0         6.0        9.0           10.0   \n",
       "18198           13.0     46.0        52.0       58.0           42.0   \n",
       "18199           49.0      7.0         7.0        9.0           14.0   \n",
       "18200           14.0     11.0        15.0       12.0           12.0   \n",
       "18201           53.0      9.0        10.0        9.0           11.0   \n",
       "18202           47.0     10.0        13.0        7.0            8.0   \n",
       "18203           19.0     10.0         9.0        9.0            5.0   \n",
       "18204           11.0      6.0         5.0       10.0            6.0   \n",
       "18205           27.0     14.0         6.0       14.0            8.0   \n",
       "18206           50.0     10.0        15.0        9.0           12.0   \n",
       "\n",
       "      GKReflexes Release Clause  \n",
       "0            8.0        €226.5M  \n",
       "1           11.0        €127.1M  \n",
       "2           11.0        €228.1M  \n",
       "3           94.0        €138.6M  \n",
       "4           13.0        €196.4M  \n",
       "5            8.0        €172.1M  \n",
       "6            9.0        €137.4M  \n",
       "7           37.0          €164M  \n",
       "8           11.0        €104.6M  \n",
       "9           89.0        €144.5M  \n",
       "10          10.0        €127.1M  \n",
       "11          10.0        €156.8M  \n",
       "12          15.0         €90.2M  \n",
       "13          12.0          €111M  \n",
       "14          10.0        €121.3M  \n",
       "15           8.0        €153.5M  \n",
       "16          11.0        €160.7M  \n",
       "17          14.0        €165.8M  \n",
       "18          90.0        €123.3M  \n",
       "19          88.0        €113.7M  \n",
       "20          13.0        €105.6M  \n",
       "21          10.0          €111M  \n",
       "22          87.0         €62.7M  \n",
       "23          14.0        €119.3M  \n",
       "24           3.0         €44.6M  \n",
       "25           6.0        €166.1M  \n",
       "26          14.0        €137.3M  \n",
       "27          12.0        €126.4M  \n",
       "28          14.0            NaN  \n",
       "29          10.0        €105.4M  \n",
       "...          ...            ...  \n",
       "18177       12.0          €193K  \n",
       "18178       51.0           €94K  \n",
       "18179        8.0          €119K  \n",
       "18180       45.0           €78K  \n",
       "18181       10.0          €109K  \n",
       "18182        6.0          €101K  \n",
       "18183       46.0            NaN  \n",
       "18184       15.0           €78K  \n",
       "18185        8.0           €88K  \n",
       "18186        8.0          €167K  \n",
       "18187       12.0           €66K  \n",
       "18188       10.0          €143K  \n",
       "18189        8.0          €125K  \n",
       "18190        8.0          €165K  \n",
       "18191       12.0          €119K  \n",
       "18192       13.0          €119K  \n",
       "18193       11.0           €99K  \n",
       "18194       44.0          €109K  \n",
       "18195       13.0          €153K  \n",
       "18196        8.0          €113K  \n",
       "18197       15.0           €88K  \n",
       "18198       48.0          €165K  \n",
       "18199       15.0          €175K  \n",
       "18200       11.0          €143K  \n",
       "18201       13.0          €153K  \n",
       "18202        9.0          €143K  \n",
       "18203       12.0          €113K  \n",
       "18204       13.0          €165K  \n",
       "18205        9.0          €143K  \n",
       "18206        9.0          €165K  \n",
       "\n",
       "[18207 rows x 89 columns]>"
      ]
     },
     "execution_count": 3,
     "metadata": {},
     "output_type": "execute_result"
    }
   ],
   "source": [
    "def fix(x):\n",
    "    x = str(x)\n",
    "    if('+' in x):\n",
    "        calc = x.split('+')\n",
    "        return int(calc[0])\n",
    "    elif('-' in x):\n",
    "        calc = x.split('-')\n",
    "        return int(calc[0])\n",
    "    elif x.isdigit():\n",
    "        return int(x)\n",
    "    else:\n",
    "         return int(0)\n",
    "\n",
    "for column in dataset.iloc[:,28:54]:\n",
    "    dataset[column] = dataset[column].apply(lambda x: fix(x))\n",
    "dataset.fillna\n"
   ]
  },
  {
   "cell_type": "code",
   "execution_count": 4,
   "metadata": {},
   "outputs": [],
   "source": [
    "def str2number(amount):\n",
    "    try:\n",
    "        if amount[-1] == 'M':\n",
    "        \n",
    "            return float(amount[1:-1])*1000\n",
    "        elif amount[-1] == 'K':\n",
    "            return float(amount[1:-1])*1000\n",
    "        else:\n",
    "            return float(amount[1:])\n",
    "    except ValueError:\n",
    "            value = 0\n",
    "    return value\n",
    "    \n",
    "dataset['ValueNum'] = dataset['Value'].apply(lambda x: str2number(x))\n",
    "dataset['WageNum'] = dataset['Wage'].apply(lambda x: str2number(x))\n",
    "\n",
    "dataset = dataset[dataset['Position'] != 'GK']\n"
   ]
  },
  {
   "cell_type": "code",
   "execution_count": 5,
   "metadata": {},
   "outputs": [],
   "source": [
    "def weight_to_int(weight):\n",
    "    if weight=='lbs':\n",
    "        value = weight[:-3]\n",
    "        return value    \n",
    "dataset['Weight_int'] = dataset['Weight'].apply(lambda x: weight_to_int(x))\n",
    "\n"
   ]
  },
  {
   "cell_type": "code",
   "execution_count": 6,
   "metadata": {},
   "outputs": [],
   "source": [
    "dataset.loc[dataset['Preferred Foot'] == 'Left', 'Preferred Foot'] = 1\n",
    "dataset.loc[dataset['Preferred Foot'] == 'Right', 'Preferred Foot'] = 0"
   ]
  },
  {
   "cell_type": "code",
   "execution_count": 7,
   "metadata": {},
   "outputs": [
    {
     "data": {
      "text/plain": [
       "Index(['Unnamed: 0', 'ID', 'Name', 'Age', 'Photo', 'Nationality', 'Flag',\n",
       "       'Overall', 'Potential', 'Club', 'Club Logo', 'Value', 'Wage', 'Special',\n",
       "       'Preferred Foot', 'International Reputation', 'Weak Foot',\n",
       "       'Skill Moves', 'Work Rate', 'Body Type', 'Real Face', 'Position',\n",
       "       'Jersey Number', 'Joined', 'Loaned From', 'Contract Valid Until',\n",
       "       'Height', 'Weight', 'LS', 'ST', 'RS', 'LW', 'LF', 'CF', 'RF', 'RW',\n",
       "       'LAM', 'CAM', 'RAM', 'LM', 'LCM', 'CM', 'RCM', 'RM', 'LWB', 'LDM',\n",
       "       'CDM', 'RDM', 'RWB', 'LB', 'LCB', 'CB', 'RCB', 'RB', 'Crossing',\n",
       "       'Finishing', 'HeadingAccuracy', 'ShortPassing', 'Volleys', 'Dribbling',\n",
       "       'Curve', 'FKAccuracy', 'LongPassing', 'BallControl', 'Acceleration',\n",
       "       'SprintSpeed', 'Agility', 'Reactions', 'Balance', 'ShotPower',\n",
       "       'Jumping', 'Stamina', 'Strength', 'LongShots', 'Aggression',\n",
       "       'Interceptions', 'Positioning', 'Vision', 'Penalties', 'Composure',\n",
       "       'Marking', 'StandingTackle', 'SlidingTackle', 'GKDiving', 'GKHandling',\n",
       "       'GKKicking', 'GKPositioning', 'GKReflexes', 'Release Clause',\n",
       "       'ValueNum', 'WageNum', 'Weight_int'],\n",
       "      dtype='object')"
      ]
     },
     "execution_count": 7,
     "metadata": {},
     "output_type": "execute_result"
    }
   ],
   "source": [
    "    dataset.loc[dataset['Position'] == 'RS', 'Position'] = 1\n",
    "    dataset.loc[dataset['Position'] == 'LS', 'Position'] = 1\n",
    "    dataset.loc[dataset['Position'] == 'RF', 'Position'] = 1\n",
    "    dataset.loc[dataset['Position'] == 'LF', 'Position'] = 1\n",
    "    dataset.loc[dataset['Position'] == 'ST', 'Position'] = 1\n",
    "    dataset.loc[dataset['Position'] == 'LWB', 'Position'] =0\n",
    "    dataset.loc[dataset['Position'] == 'RWB', 'Position'] =0\n",
    "    dataset.loc[dataset['Position'] == 'LAM', 'Position'] =1\n",
    "    dataset.loc[dataset['Position'] == 'LCM', 'Position'] =1\n",
    "    dataset.loc[dataset['Position'] == 'LDM', 'Position'] =0\n",
    "    dataset.loc[dataset['Position'] == 'RAM', 'Position'] =1\n",
    "    dataset.loc[dataset['Position'] == 'RDM', 'Position'] =0\n",
    "    dataset.loc[dataset['Position'] == 'RCM', 'Position'] =1 \n",
    "    dataset.loc[dataset['Position'] == 'CAM', 'Position'] =1\n",
    "    dataset.loc[dataset['Position'] == 'CDM', 'Position'] =0\n",
    "    dataset.loc[dataset['Position'] == 'RCB', 'Position'] =0\n",
    "    dataset.loc[dataset['Position'] == 'LCB', 'Position'] =0\n",
    "    dataset.loc[dataset['Position'] == 'RW', 'Position'] =1\n",
    "    dataset.loc[dataset['Position'] == 'LM', 'Position'] =1\n",
    "    dataset.loc[dataset['Position'] == 'RM', 'Position'] =1\n",
    "    dataset.loc[dataset['Position'] == 'CM', 'Position'] =1\n",
    "    dataset.loc[dataset['Position'] == 'CB', 'Position'] =0\n",
    "    dataset.loc[dataset['Position'] == 'LW', 'Position'] =1\n",
    "    dataset.loc[dataset['Position'] == 'LB', 'Position'] =0\n",
    "    dataset.loc[dataset['Position'] == 'RB', 'Position'] =0\n",
    "    dataset.loc[dataset['Position'] == 'CF', 'Position'] =1\n",
    "\n",
    "dataset.columns"
   ]
  },
  {
   "cell_type": "markdown",
   "metadata": {},
   "source": [
    "# Scaling the dataset"
   ]
  },
  {
   "cell_type": "code",
   "execution_count": 8,
   "metadata": {},
   "outputs": [
    {
     "data": {
      "text/plain": [
       "Index(['Special', 'International Reputation', 'Weak Foot', 'Skill Moves', 'LS',\n",
       "       'ST', 'RS', 'LW', 'LF', 'CF', 'RF', 'RW', 'LAM', 'CAM', 'RAM', 'LM',\n",
       "       'LCM', 'CM', 'RCM', 'RM', 'LWB', 'LDM', 'CDM', 'RDM', 'RWB', 'LB',\n",
       "       'LCB', 'CB', 'RCB', 'RB', 'Crossing', 'Finishing', 'HeadingAccuracy',\n",
       "       'ShortPassing', 'Volleys', 'Dribbling', 'Curve', 'FKAccuracy',\n",
       "       'LongPassing', 'BallControl', 'Acceleration', 'SprintSpeed', 'Agility',\n",
       "       'Reactions', 'Balance', 'ShotPower', 'Jumping', 'Stamina', 'Strength',\n",
       "       'LongShots', 'Aggression', 'Interceptions', 'Positioning', 'Vision',\n",
       "       'Penalties', 'Composure', 'Marking', 'StandingTackle', 'SlidingTackle',\n",
       "       'GKDiving', 'GKHandling', 'GKKicking', 'GKPositioning', 'GKReflexes',\n",
       "       'ValueNum', 'WageNum', 'Weight_int'],\n",
       "      dtype='object')"
      ]
     },
     "execution_count": 8,
     "metadata": {},
     "output_type": "execute_result"
    }
   ],
   "source": [
    "\n",
    "Y=dataset[['Position']]\n",
    "dataset.drop(['Unnamed: 0', 'ID', 'Name', 'Age', 'Photo',  'Flag',\n",
    "       'Overall', 'Potential', 'Club', 'Club Logo', 'Value', 'Wage','Jersey Number', 'Joined', 'Height', 'Weight',\n",
    "                'Loaned From', 'Contract Valid Until', 'Body Type','Preferred Foot',\n",
    "                'Real Face','Work Rate', 'Release Clause','Position','Nationality'],axis=1, inplace=True)\n",
    "\n",
    "dataset.columns"
   ]
  },
  {
   "cell_type": "code",
   "execution_count": 9,
   "metadata": {},
   "outputs": [],
   "source": [
    "dataset=min_max.fit_transform(dataset)\n",
    "dataset= pd.DataFrame(dataset)\n",
    "X=dataset\n"
   ]
  },
  {
   "cell_type": "markdown",
   "metadata": {},
   "source": [
    "# Converting\n"
   ]
  },
  {
   "cell_type": "code",
   "execution_count": 10,
   "metadata": {},
   "outputs": [],
   "source": [
    "def intocats(amount):\n",
    "    if amount is None:\n",
    "        return 0\n",
    "    if amount >=0:\n",
    "        return amount\n",
    "    else:\n",
    "        return 0\n",
    "for column in X:\n",
    "       X[column] = X[column].apply(lambda x: intocats(x))\n",
    "Y['Position']=Y['Position'].apply(lambda x: intocats(x))"
   ]
  },
  {
   "cell_type": "markdown",
   "metadata": {},
   "source": [
    "# Applying Machine Learning Models"
   ]
  },
  {
   "cell_type": "markdown",
   "metadata": {},
   "source": [
    "## Logistic Regression"
   ]
  },
  {
   "cell_type": "code",
   "execution_count": 12,
   "metadata": {},
   "outputs": [
    {
     "name": "stdout",
     "output_type": "stream",
     "text": [
      "ACCURACY SCORE: 0.9133479813238121\n",
      "F1 SCORE: 0.9134308296760099\n",
      "RECALL SCORE 0.9133479813238121\n"
     ]
    }
   ],
   "source": [
    "\n",
    "from sklearn.metrics import precision_recall_fscore_support\n",
    "from sklearn.linear_model import LinearRegression\n",
    "X_train, x_test, Y_train, y_test = train_test_split(X, Y, test_size=0.90, random_state=0)\n",
    "\n",
    "from sklearn.metrics import f1_score\n",
    "from sklearn import metrics\n",
    "logreg = LogisticRegression()\n",
    "logreg.fit(X_train, Y_train)\n",
    "y_pred = logreg.predict(x_test)\n",
    "print(\"ACCURACY SCORE:\",(logreg.score(x_test, y_test)))\n",
    "print(\"F1 SCORE:\",f1_score(y_test, y_pred, average='weighted'))\n",
    "from sklearn.metrics import recall_score\n",
    "print(\"RECALL SCORE\",recall_score(y_test, y_pred, average='weighted') )"
   ]
  },
  {
   "cell_type": "markdown",
   "metadata": {},
   "source": [
    "## Linear Regression"
   ]
  },
  {
   "cell_type": "code",
   "execution_count": 13,
   "metadata": {},
   "outputs": [
    {
     "name": "stdout",
     "output_type": "stream",
     "text": [
      "ACCURACY SCORE 0.6766751923820786\n",
      "F1 SCORE: 0.9134308296760099\n",
      "RECALL SCORE 0.9133479813238121\n"
     ]
    }
   ],
   "source": [
    "from sklearn.linear_model import LogisticRegression\n",
    "\n",
    "from sklearn import metrics as ms\n",
    "model = LinearRegression()\n",
    "model.fit(X_train, Y_train)\n",
    "predictions = model.predict(x_test)\n",
    "score = model.score(x_test, y_test)\n",
    "print(\"ACCURACY SCORE\",score)\n",
    "print(\"F1 SCORE:\",f1_score(y_test, y_pred, average='weighted'))\n",
    "from sklearn.metrics import recall_score\n",
    "print(\"RECALL SCORE\",recall_score(y_test, y_pred, average='weighted') )\n"
   ]
  },
  {
   "cell_type": "markdown",
   "metadata": {},
   "source": [
    "## Decision Tree"
   ]
  },
  {
   "cell_type": "code",
   "execution_count": 14,
   "metadata": {},
   "outputs": [
    {
     "name": "stdout",
     "output_type": "stream",
     "text": [
      "ACCURACY SCORE: 0.8700906344410876\n",
      "F1 SCORE: 0.8701894755914579\n",
      "RECALL SCORE 0.8700906344410876\n"
     ]
    }
   ],
   "source": [
    "from sklearn import metrics\n",
    "from sklearn.metrics import precision_recall_fscore_support\n",
    "from sklearn.tree import DecisionTreeRegressor \n",
    "model = DecisionTreeRegressor(random_state=0)\n",
    "model = model.fit(X_train,Y_train)\n",
    "y_pred = model.predict(x_test)\n",
    "print(\"ACCURACY SCORE:\",metrics.accuracy_score(y_test, y_pred))\n",
    "from sklearn.metrics import f1_score\n",
    "print(\"F1 SCORE:\",f1_score(y_test, y_pred, average='weighted'))\n",
    "from sklearn.metrics import recall_score\n",
    "print(\"RECALL SCORE\",recall_score(y_test, y_pred, average='weighted') )\n"
   ]
  },
  {
   "cell_type": "markdown",
   "metadata": {},
   "source": [
    "## Naive Bayes"
   ]
  },
  {
   "cell_type": "code",
   "execution_count": 15,
   "metadata": {},
   "outputs": [
    {
     "name": "stdout",
     "output_type": "stream",
     "text": [
      "ACCURACY SCORE: 0.8677561109585279\n",
      "F1 SCORE: 0.8673209484859391\n",
      "RECALL SCORE 0.8677561109585279\n"
     ]
    }
   ],
   "source": [
    "from sklearn.naive_bayes import GaussianNB\n",
    "model = GaussianNB()\n",
    "model.fit(X_train,Y_train)\n",
    "predicted = model.predict(x_test)\n",
    "print(\"ACCURACY SCORE:\",metrics.accuracy_score(y_test, predicted))\n",
    "from sklearn.metrics import f1_score\n",
    "print(\"F1 SCORE:\",f1_score(y_test, predicted, average='weighted'))\n",
    "from sklearn.metrics import recall_score\n",
    "print(\"RECALL SCORE\",recall_score(y_test, predicted, average='weighted') )\n"
   ]
  },
  {
   "cell_type": "markdown",
   "metadata": {},
   "source": [
    "## Random Forest Classifier"
   ]
  },
  {
   "cell_type": "code",
   "execution_count": 16,
   "metadata": {},
   "outputs": [
    {
     "name": "stdout",
     "output_type": "stream",
     "text": [
      "ACCURACY SCORE: 0.9115627574842077\n",
      "F1 SCORE: 0.9116973466483543\n"
     ]
    }
   ],
   "source": [
    "from sklearn.ensemble import RandomForestClassifier\n",
    "from sklearn.metrics import f1_score\n",
    "cls = RandomForestClassifier(n_estimators=20, random_state=0)  \n",
    "cls.fit(X_train, Y_train)  \n",
    "y_pred = cls.predict(x_test)\n",
    "print(\"ACCURACY SCORE:\",metrics.accuracy_score(y_test, y_pred))\n",
    "\n",
    "print(\"F1 SCORE:\",f1_score(y_test, y_pred, average='weighted'))\n"
   ]
  },
  {
   "cell_type": "code",
   "execution_count": 17,
   "metadata": {},
   "outputs": [
    {
     "name": "stdout",
     "output_type": "stream",
     "text": [
      "RECALL SCORE 0.9115627574842077\n"
     ]
    }
   ],
   "source": [
    "from sklearn.metrics import recall_score\n",
    "print(\"RECALL SCORE\",recall_score(y_test, y_pred, average='weighted'))\n"
   ]
  },
  {
   "cell_type": "markdown",
   "metadata": {},
   "source": [
    "## Support Vector Machine"
   ]
  },
  {
   "cell_type": "code",
   "execution_count": 18,
   "metadata": {},
   "outputs": [
    {
     "name": "stdout",
     "output_type": "stream",
     "text": [
      "ACCURACY SCORE: 0.9152705300741555\n",
      "F1 SCORE: 0.9153325158707517\n",
      "RECALL SCORE 0.9152705300741555\n"
     ]
    }
   ],
   "source": [
    "from sklearn.svm import SVC \n",
    "from sklearn.metrics import f1_score\n",
    "clf = SVC(kernel='linear') \n",
    "clf.fit(X_train, Y_train) \n",
    "predicted = clf.predict(x_test)\n",
    "print(\"ACCURACY SCORE:\",metrics.accuracy_score(y_test, predicted))\n",
    "precision_recall_fscore_support(y_test, predicted, average='macro')\n",
    "print(\"F1 SCORE:\",f1_score(y_test, predicted, average='weighted'))\n",
    "from sklearn.metrics import recall_score\n",
    "print(\"RECALL SCORE\",recall_score(y_test, predicted, average='weighted'))\n"
   ]
  },
  {
   "cell_type": "code",
   "execution_count": null,
   "metadata": {},
   "outputs": [],
   "source": []
  }
 ],
 "metadata": {
  "kernelspec": {
   "display_name": "Python 3",
   "language": "python",
   "name": "python3"
  },
  "language_info": {
   "codemirror_mode": {
    "name": "ipython",
    "version": 3
   },
   "file_extension": ".py",
   "mimetype": "text/x-python",
   "name": "python",
   "nbconvert_exporter": "python",
   "pygments_lexer": "ipython3",
   "version": "3.7.1"
  }
 },
 "nbformat": 4,
 "nbformat_minor": 2
}
